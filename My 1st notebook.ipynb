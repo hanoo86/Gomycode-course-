{
 "cells": [
  {
   "cell_type": "code",
   "execution_count": 1,
   "id": "3e494658",
   "metadata": {},
   "outputs": [
    {
     "name": "stdout",
     "output_type": "stream",
     "text": [
      "Welcome to python world! Let's start coding\n"
     ]
    }
   ],
   "source": [
    " print(\"Welcome to python world! Let's start coding\")"
   ]
  },
  {
   "cell_type": "code",
   "execution_count": 3,
   "id": "bbde60ee",
   "metadata": {},
   "outputs": [
    {
     "name": "stdout",
     "output_type": "stream",
     "text": [
      "hi\n"
     ]
    }
   ],
   "source": [
    "x= 5\n",
    "x=\"hi\"\n",
    "print (x)"
   ]
  },
  {
   "cell_type": "code",
   "execution_count": 2,
   "id": "8aaf338b",
   "metadata": {},
   "outputs": [
    {
     "name": "stdout",
     "output_type": "stream",
     "text": [
      "Hi\n"
     ]
    }
   ],
   "source": [
    "x=\"Hi\"\n",
    "print (x)"
   ]
  },
  {
   "cell_type": "code",
   "execution_count": 4,
   "id": "afdb251e",
   "metadata": {},
   "outputs": [
    {
     "name": "stdout",
     "output_type": "stream",
     "text": [
      "3.0\n"
     ]
    }
   ],
   "source": [
    "x=19\n",
    "y=10\n",
    "print(x%y*3/(x-y))"
   ]
  },
  {
   "cell_type": "code",
   "execution_count": 5,
   "id": "399c8590",
   "metadata": {},
   "outputs": [
    {
     "name": "stdout",
     "output_type": "stream",
     "text": [
      "i\n"
     ]
    }
   ],
   "source": [
    "mystring=\"welcome to coding world\"\n",
    "print(mystring[len(mystring)-9])\n"
   ]
  },
  {
   "cell_type": "code",
   "execution_count": 6,
   "id": "cc960997",
   "metadata": {},
   "outputs": [
    {
     "data": {
      "text/plain": [
       "True"
      ]
     },
     "execution_count": 6,
     "metadata": {},
     "output_type": "execute_result"
    }
   ],
   "source": [
    "(5 != 7) == (2 >1)"
   ]
  },
  {
   "cell_type": "code",
   "execution_count": 7,
   "id": "d0cc6461",
   "metadata": {},
   "outputs": [
    {
     "data": {
      "text/plain": [
       "True"
      ]
     },
     "execution_count": 7,
     "metadata": {},
     "output_type": "execute_result"
    }
   ],
   "source": [
    "(1!=1)==(4>5)"
   ]
  },
  {
   "cell_type": "code",
   "execution_count": 9,
   "id": "3d22619a",
   "metadata": {},
   "outputs": [
    {
     "name": "stdout",
     "output_type": "stream",
     "text": [
      "5\n"
     ]
    }
   ],
   "source": [
    "x=5\n",
    "if x<8:\n",
    "    print(x)"
   ]
  },
  {
   "cell_type": "code",
   "execution_count": 23,
   "id": "3fbed967",
   "metadata": {},
   "outputs": [
    {
     "name": "stdout",
     "output_type": "stream",
     "text": [
      "1\n",
      "4\n"
     ]
    }
   ],
   "source": [
    "mylist= [1,2,3]\n",
    "print(mylist[0])\n",
    "print(len(mylist))"
   ]
  },
  {
   "cell_type": "code",
   "execution_count": 28,
   "id": "8d815a8e",
   "metadata": {},
   "outputs": [
    {
     "name": "stdout",
     "output_type": "stream",
     "text": [
      "2\n"
     ]
    }
   ],
   "source": [
    "mylist=[1, 56, \"hello\", [7, 20], True] \n",
    "print(len(mylist[3]))"
   ]
  },
  {
   "cell_type": "code",
   "execution_count": 29,
   "id": "e5366a73",
   "metadata": {},
   "outputs": [
    {
     "data": {
      "text/plain": [
       "[1, 56, 'hello', [7], True]"
      ]
     },
     "execution_count": 29,
     "metadata": {},
     "output_type": "execute_result"
    }
   ],
   "source": [
    "mylist=[1, 56, \"hello\", [7, 20], True]\n",
    "del mylist[3][1]\n",
    "mylist"
   ]
  },
  {
   "cell_type": "code",
   "execution_count": 30,
   "id": "87da5950",
   "metadata": {},
   "outputs": [
    {
     "data": {
      "text/plain": [
       "('AI', 'Data Science', 'Web')"
      ]
     },
     "execution_count": 30,
     "metadata": {},
     "output_type": "execute_result"
    }
   ],
   "source": [
    "mytuple=(\"AI\",\"Data Science\", \"Web\")\n",
    "mytuple"
   ]
  },
  {
   "cell_type": "code",
   "execution_count": 31,
   "id": "276a9042",
   "metadata": {},
   "outputs": [
    {
     "data": {
      "text/plain": [
       "{'Name': 'Jack', 'Last Name': 'Mccay', 'year': 1964}"
      ]
     },
     "execution_count": 31,
     "metadata": {},
     "output_type": "execute_result"
    }
   ],
   "source": [
    "MyDict={\"Name\":\"Jack\", \"Last Name\":\"Mccay\", \"year\": 1964}\n",
    "MyDict"
   ]
  },
  {
   "cell_type": "code",
   "execution_count": 32,
   "id": "00c01a60",
   "metadata": {},
   "outputs": [
    {
     "data": {
      "text/plain": [
       "dict_keys(['Name', 'Last Name', 'year'])"
      ]
     },
     "execution_count": 32,
     "metadata": {},
     "output_type": "execute_result"
    }
   ],
   "source": [
    "MyDict.keys()"
   ]
  },
  {
   "cell_type": "code",
   "execution_count": 34,
   "id": "7d919cb6",
   "metadata": {},
   "outputs": [
    {
     "data": {
      "text/plain": [
       "dict_values(['Jack', 'Mccay', 1964])"
      ]
     },
     "execution_count": 34,
     "metadata": {},
     "output_type": "execute_result"
    }
   ],
   "source": [
    "MyDict.values()"
   ]
  },
  {
   "cell_type": "code",
   "execution_count": null,
   "id": "3a788884",
   "metadata": {},
   "outputs": [],
   "source": []
  }
 ],
 "metadata": {
  "kernelspec": {
   "display_name": "Python 3",
   "language": "python",
   "name": "python3"
  },
  "language_info": {
   "codemirror_mode": {
    "name": "ipython",
    "version": 3
   },
   "file_extension": ".py",
   "mimetype": "text/x-python",
   "name": "python",
   "nbconvert_exporter": "python",
   "pygments_lexer": "ipython3",
   "version": "3.8.8"
  }
 },
 "nbformat": 4,
 "nbformat_minor": 5
}
