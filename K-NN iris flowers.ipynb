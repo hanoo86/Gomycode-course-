{
 "cells": [
  {
   "cell_type": "code",
   "execution_count": 4,
   "id": "c8aabd6e",
   "metadata": {},
   "outputs": [],
   "source": [
    "import pandas as pd\n",
    "import numpy as np\n",
    "from pandas import Series,DataFrame\n",
    "import matplotlib.pyplot as plt\n",
    "import seaborn as sns\n",
    "%matplotlib inline"
   ]
  },
  {
   "cell_type": "code",
   "execution_count": 54,
   "id": "47b41cb8",
   "metadata": {},
   "outputs": [],
   "source": [
    "import csv\n",
    "import random\n",
    "import math\n",
    "import operator\n",
    " \n",
    "def loadDataset(filename,split,trainingSet=[], testSet=[]):\n",
    "    with open('iris.data.txt','r') as csvfile: #Open a file using the open method\n",
    "        lines = csv.reader(csvfile) #Using csv module to read data\n",
    "        dataset = list(lines)\n",
    "        for x in range(len(dataset)-1):\n",
    "            for y in range(4):\n",
    "                dataset[x][y] = float(dataset[x][y])\n",
    "            if random.random() < split:\n",
    "            \n",
    "                trainingSet.append(dataset[x])\n",
    "            else:\n",
    "                testSet.append(dataset[x])"
   ]
  },
  {
   "cell_type": "code",
   "execution_count": 7,
   "id": "7040f0b9",
   "metadata": {},
   "outputs": [
    {
     "name": "stdout",
     "output_type": "stream",
     "text": [
      "trainingSet 96\n",
      "testSet 53\n"
     ]
    }
   ],
   "source": [
    "#Testing the code\n",
    "trainingSet=[]\n",
    "testSet=[]\n",
    "loadDataset('iris.data',0.66,trainingSet,testSet)\n",
    "print('trainingSet',repr(len(trainingSet)))\n",
    "print('testSet',repr(len(testSet)))"
   ]
  },
  {
   "cell_type": "code",
   "execution_count": 10,
   "id": "e175dd45",
   "metadata": {},
   "outputs": [],
   "source": [
    "#Similarity\n",
    "\n",
    "def euclideanDistance(instance1,instance2,length):\n",
    "    distance = 0\n",
    "    for x in range(length):\n",
    "        distance += pow((instance1[x]-instance2[x]),2) #Addition of all dimension distances to be computed\n",
    "    return math.sqrt(distance)"
   ]
  },
  {
   "cell_type": "code",
   "execution_count": 11,
   "id": "f37aecea",
   "metadata": {},
   "outputs": [
    {
     "name": "stdout",
     "output_type": "stream",
     "text": [
      "distance 3.4641016151377544\n"
     ]
    }
   ],
   "source": [
    "#Test code:\n",
    "\n",
    "data1 = [2,2,2,'a']\n",
    "data2 = [4,4,4,'b']\n",
    "# length=3 computes only the first three dimensions\n",
    "distance = euclideanDistance(data1,data2,3)\n",
    "print('distance',repr(distance))"
   ]
  },
  {
   "cell_type": "code",
   "execution_count": 12,
   "id": "e8181616",
   "metadata": {},
   "outputs": [],
   "source": [
    "#Nearest Similarity\n",
    "\n",
    "def getNeighbors(trainingSet, testInstance, k):\n",
    "    distances = []\n",
    "    length = len(testInstance)-1\n",
    "    for x in range(len(trainingSet)):\n",
    "        #testinstance\n",
    "        dist = euclideanDistance(testInstance, trainingSet[x], length)\n",
    "        distances.append((trainingSet[x], dist))\n",
    "        #distances.append(dist)\n",
    "    distances.sort(key=operator.itemgetter(1))\n",
    "    neighbors = []\n",
    "    for x in range(k):\n",
    "        neighbors.append(distances[x][0])\n",
    "        return neighbors"
   ]
  },
  {
   "cell_type": "code",
   "execution_count": 77,
   "id": "c054c6cf",
   "metadata": {},
   "outputs": [
    {
     "name": "stdout",
     "output_type": "stream",
     "text": [
      "[[4, 4, 4, 'b']]\n"
     ]
    }
   ],
   "source": [
    "#Test code:\n",
    "\n",
    "trainSet = [[2,2,2,'a'],[4,4,4,'b']]\n",
    "testInstance = [5,5,5]\n",
    "k = 1\n",
    "neighbors = getNeighbors(trainSet,testInstance,k)\n",
    "print(neighbors)"
   ]
  },
  {
   "cell_type": "markdown",
   "id": "25e131c1",
   "metadata": {},
   "source": [
    "Test results (adjacent elements): [[4, 4, 4, 'b']]"
   ]
  },
  {
   "cell_type": "code",
   "execution_count": 14,
   "id": "b9e93a1e",
   "metadata": {},
   "outputs": [],
   "source": [
    "def getResponse(neighbors):\n",
    "    classVotes = {}\n",
    "    for x in range(len(neighbors)): #Traversing the nearest element\n",
    "        response = neighbors[x][-1] #Assuming that the attributes to be predicted are at the end of the data instance (array)\n",
    "        if response in classVotes:\n",
    "            classVotes[response] += 1 # Voting for predictive attributes\n",
    "        else:\n",
    "            classVotes[response] = 1\n",
    "    sortedVotes = sorted(classVotes.items(), key=None, reverse=True)\n",
    "    return sortedVotes[0][0] #"
   ]
  },
  {
   "cell_type": "code",
   "execution_count": 15,
   "id": "4c5759e1",
   "metadata": {},
   "outputs": [
    {
     "name": "stdout",
     "output_type": "stream",
     "text": [
      "b\n"
     ]
    }
   ],
   "source": [
    "#Test code:\n",
    "\n",
    "neighbors= [[1,1,1,'a'],[2,2,2,'a'],[3,3,3,'b']]\n",
    "response = getResponse(neighbors)\n",
    "print(response)"
   ]
  },
  {
   "cell_type": "code",
   "execution_count": 16,
   "id": "e0e6ba0f",
   "metadata": {},
   "outputs": [],
   "source": [
    "#Accuracy\n",
    "\n",
    "# Assuming predictions are the predicted result set of the test set\n",
    "def getAccuracy(testSet, predictions):\n",
    "    correct = 0\n",
    "    for x in range(len(testSet)):\n",
    "        if testSet[x][-1] is predictions[x]:\n",
    "            correct += 1\n",
    "    return (correct/float(len(testSet))) * 100.0"
   ]
  },
  {
   "cell_type": "code",
   "execution_count": 53,
   "id": "de3be576",
   "metadata": {},
   "outputs": [
    {
     "name": "stdout",
     "output_type": "stream",
     "text": [
      "66.66666666666666\n"
     ]
    }
   ],
   "source": [
    "#Test code:\n",
    "testSet = [[1,1,1,'a'],[2,2,2,'a'],[3,3,3,'b']]\n",
    "predictions = ['a','a','a']\n",
    "accuracy = getAccuracy(testSet,predictions)\n",
    "print(accuracy)"
   ]
  },
  {
   "cell_type": "code",
   "execution_count": 65,
   "id": "a9b31356",
   "metadata": {},
   "outputs": [],
   "source": [
    "def euclideanDistance(instance1,instance2,length):\n",
    "    distance = 0\n",
    "    for x in range(length):\n",
    "        distance += pow((instance1[x]-instance2[x]),6) \n",
    "    return math.sqrt(distance)"
   ]
  },
  {
   "cell_type": "code",
   "execution_count": 66,
   "id": "7b3cb7aa",
   "metadata": {},
   "outputs": [
    {
     "name": "stdout",
     "output_type": "stream",
     "text": [
      "distance 13.856406460551018\n"
     ]
    }
   ],
   "source": [
    "#Test code:\n",
    "\n",
    "data1 = [6,6,6,'c']\n",
    "data2 = [8,8,8,'d']\n",
    "# length=3 computes only the first three dimensions\n",
    "distance = euclideanDistance(data1,data2,3)\n",
    "print('distance',repr(distance))"
   ]
  },
  {
   "cell_type": "code",
   "execution_count": 82,
   "id": "9111fc82",
   "metadata": {},
   "outputs": [],
   "source": [
    "#Nearest Similarity\n",
    "\n",
    "def getNeighbors(trainingSet, testInstance, k):\n",
    "    distances = []\n",
    "    length = len(testInstance)-1\n",
    "    for x in range(len(trainingSet)):\n",
    "        #testinstance\n",
    "        dist = euclideanDistance(testInstance, trainingSet[x], length)\n",
    "        distances.append((trainingSet[x], dist))\n",
    "        #distances.append(dist)\n",
    "    distances.sort(key=operator.itemgetter(1))\n",
    "    neighbors = []\n",
    "    for x in range(k):\n",
    "        neighbors.append(distances[x][0])\n",
    "        return neighbors"
   ]
  },
  {
   "cell_type": "code",
   "execution_count": 83,
   "id": "8859857f",
   "metadata": {},
   "outputs": [
    {
     "name": "stdout",
     "output_type": "stream",
     "text": [
      "[[8, 8, 8, 'd']]\n"
     ]
    }
   ],
   "source": [
    "#Test code:\n",
    "\n",
    "trainSet = [[6,6,6,'c'],[8,8,8,'d']]\n",
    "testInstance = [9,9,9]\n",
    "k = 1\n",
    "neighbors = getNeighbors(trainSet,testInstance,k)\n",
    "print(neighbors)"
   ]
  },
  {
   "cell_type": "markdown",
   "id": "c05bf0cc",
   "metadata": {},
   "source": [
    "Test results (adjacent elements): [[8, 8, 8, 'd']]"
   ]
  },
  {
   "cell_type": "code",
   "execution_count": null,
   "id": "6a0b2731",
   "metadata": {},
   "outputs": [],
   "source": []
  }
 ],
 "metadata": {
  "kernelspec": {
   "display_name": "Python 3",
   "language": "python",
   "name": "python3"
  },
  "language_info": {
   "codemirror_mode": {
    "name": "ipython",
    "version": 3
   },
   "file_extension": ".py",
   "mimetype": "text/x-python",
   "name": "python",
   "nbconvert_exporter": "python",
   "pygments_lexer": "ipython3",
   "version": "3.8.8"
  }
 },
 "nbformat": 4,
 "nbformat_minor": 5
}
